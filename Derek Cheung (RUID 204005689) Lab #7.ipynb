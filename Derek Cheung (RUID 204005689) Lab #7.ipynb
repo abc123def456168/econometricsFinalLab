{
 "cells": [
  {
   "cell_type": "markdown",
   "metadata": {},
   "source": [
    "<div class=\"alert alert-info\" role=\"alert\">\n",
    "    <center><h1 style=\"color:red\"><strong>Econometrics 322 Lab #7</strong></h1></center><br>\n",
    "    <center><h2><strong><color:red>Self-Identified Problem</strong></h2></center><br>\n",
    "    <center><h3><strong>Prof. Paczkowski</strong></h3></center>\n",
    "</div>\n",
    "<br><br>\n",
    "<div class=\"alert alert-warning\" role=\"alert\">\n",
    "    <center><h1><strong>Enter your Name in the Next Cell</strong></h1></center>\n",
    "</div>"
   ]
  },
  {
   "cell_type": "markdown",
   "metadata": {},
   "source": [
    "Derek Cheung (RUID 204005689)"
   ]
  },
  {
   "cell_type": "markdown",
   "metadata": {},
   "source": [
    "<div class=\"alert alert-info\" role=\"alert\">\n",
    "</div>"
   ]
  },
  {
   "cell_type": "markdown",
   "metadata": {},
   "source": [
    "## Grading Rubric\n",
    "\n",
    "<br>\n",
    "Score:_______________: Max(0, 20 - Total Deductions)\n",
    "<br><br>\n",
    "\n",
    "\n",
    "| Content Area | Deduction | Times Deducted | Check | Comments&emsp;&emsp;&emsp;&emsp;&emsp;&emsp;&emsp;&emsp;&emsp;&emsp;&emsp;&emsp;&emsp;&emsp;&emsp;&emsp;&emsp;&emsp;&emsp;&emsp;&emsp;&emsp;&emsp; |\n",
    "|:-----------------------------------------------------|:---------:||:------:|:-------------------------:|\n",
    "| Abstract                                             |           ||        |                           |\n",
    "| &emsp;Missing                                        | 5         ||[&emsp;]|                           |\n",
    "| &emsp;Insufficient/Wrong Focus                       | 1         ||[&emsp;]|                           |\n",
    "| Data Dictionary (Metadata)                           |           ||        |                           |\n",
    "| &emsp;Missing                                        | 5         ||[&emsp;]|                           |\n",
    "| &emsp;Insufficient/Wrong Form or Wording             | 1         ||[&emsp;]|                           |  \n",
    "| Graphs                                               |           ||        |                           |\n",
    "| &emsp;Missing                                        | 5         ||[&emsp;]|                           |\n",
    "| &emsp;Missing Title                                  | 1         ||[&emsp;]|                           |\n",
    "| &emsp;Missing/Wrong Labels                           | 1         ||[&emsp;]|                           |\n",
    "| Pre-Lab                                              |           ||        |                           |\n",
    "| &emsp;Missing                                        | 5         ||[&emsp;]|                           |\n",
    "| &emsp;Insufficient/Wrong Answer                      | 2 Each    ||[&emsp;]|                           |\n",
    "| &emsp;No/Incorrect/Insufficient Model Specification  | 2         ||[&emsp;]|                           |\n",
    "| &emsp;No/Incorrect Statistical Hypothesis Statement  | 2 Each    ||[&emsp;]|                           |\n",
    "| Post-Lab                                             |           ||        |                           |\n",
    "| &emsp;Missing                                        | 5         ||[&emsp;]|                           |\n",
    "| &emsp;Insufficient/Wrong Answer                      | 2 Each    ||[&emsp;]|                           |\n",
    "| Correlations                                         |           ||        |                           |\n",
    "| &emsp;Missing                                        | 5         ||[&emsp;]|                           |\n",
    "| &emsp;Insufficient/Wrong Analysis                    | 2         ||[&emsp;]|                           |\n",
    "| &emsp;Missing Graph                                  | 2         ||[&emsp;]|                           |\n",
    "| Estimations                                          |           ||        |                           |\n",
    "| &emsp;Missing                                        | 5         ||[&emsp;]|                           |\n",
    "| &emsp;No or incorrect discussion/interpretation of...|           ||        |                           |\n",
    "| &emsp;&emsp;Hypothesis tests and p-values            | 2 Each    ||[&emsp;]|                           |\n",
    "| &emsp;&emsp;$R^2$                                    | 2         ||[&emsp;]|                           |\n",
    "| &emsp;&emsp;F-Statistic                              | 2         ||[&emsp;]|                           |\n",
    "| &emsp;&emsp;Multicollinearity/VIF                    | 2         ||[&emsp;]|                           |\n",
    "| &emsp;&emsp;Heteroskedasticity/Test                  | 2         ||[&emsp;]|                           |\n",
    "| &emsp;&emsp;Autocorrelation/Test                     | 2         ||[&emsp;]|                           |\n",
    "| &emsp;No/insufficient model selection                | 2         ||[&emsp;]|                           |\n",
    "| Elasticities                                         |           ||        |                           |\n",
    "| &emsp;Missing                                        | 5         ||[&emsp;]|                           |\n",
    "| &emsp;Incorrect Interpretation                       | 2         ||[&emsp;]|                           |\n",
    "| &emsp;Missing Summary Table                          | 2         ||[&emsp;]|                           |\n",
    "| Model Portfolio                                      |           ||[&emsp;]|                           |\n",
    "| &emsp;Missing                                        | 5         ||[&emsp;]|                           |\n",
    "| General Comments:                                    |           ||        |                           |\n",
    "||||||\n",
    "||||||\n",
    "||||||"
   ]
  },
  {
   "cell_type": "markdown",
   "metadata": {},
   "source": [
    "## Contents\n",
    "\n",
    "1. [Collaboration Policy](#Collaboration-Policy)\n",
    "2. [Introduction](#Introduction)\n",
    "    1. [Purpose](#Purpose)\n",
    "    2. [Assignment](#Assignment)\n",
    "    3. [Problem Statement](#Problem-Statement)\n",
    "3. [Documentation](#Documentation)\n",
    "    1. [Abstract](#Abstract)\n",
    "    2. [Data Dictionary](#Data-Dictionary)\n",
    "4. [Pre-lab](#Pre-lab)\n",
    "5. [Tasks](#Tasks)\n",
    "6. [Post-lab Analysis and Conclusions](#Post-lab-Analysis-and-Conclusions)"
   ]
  },
  {
   "cell_type": "markdown",
   "metadata": {},
   "source": [
    "<div class=\"alert alert-info\" role=\"alert\">\n",
    "</div>"
   ]
  },
  {
   "cell_type": "markdown",
   "metadata": {},
   "source": [
    "## Collaboration Policy\n",
    "\n",
    "[Back to Contents](#Contents)\n",
    "\n",
    "The submitted assignment must be your work.\n",
    "\n",
    "> **There is to be no collaboration for this assignment.**"
   ]
  },
  {
   "cell_type": "markdown",
   "metadata": {},
   "source": [
    "## Introduction\n",
    "\n",
    "[Back to Contents](#Contents)"
   ]
  },
  {
   "cell_type": "markdown",
   "metadata": {},
   "source": [
    "### Purpose\n",
    "\n",
    "[Back to Contents](#Contents)\n",
    "\n",
    "The purpose of this lab is to allow you to:\n",
    "\n",
    "1. identify and define your own economic problem;\n",
    "2. collect your own data;\n",
    "3. analyze your data using the tools you learned;\n",
    "4. estimate a multiple linear regression model in Pandas;\n",
    "5. interpret key statistics;\n",
    "6. identify shortcomings in the proposed linear model;\n",
    "7. summarize the regression output;\n",
    "8. estimate elasticities and judge their reasonableness;\n",
    "9. build a model portfolio;\n",
    "10. interpret the model results."
   ]
  },
  {
   "cell_type": "markdown",
   "metadata": {},
   "source": [
    "### Assignment\n",
    "\n",
    "[Back to Contents](#Contents)\n",
    "\n",
    "You have to define your own problem for this lab.  There are two rules:\n",
    "\n",
    "1. There must be a minimum of five (5) legitimate independent variables.  Dummies for a concept variable are not legitimate but the concept variable is legitimate.\n",
    "2. You cannot repeat a problem discussed in class, used in a lesson, a tutorial, or was in a previous lab."
   ]
  },
  {
   "cell_type": "markdown",
   "metadata": {},
   "source": [
    "### Problem Statement\n",
    "\n",
    "[Back to Contents](#Contents)\n",
    "\n",
    "State your problem, why it's a problem, and what you expect to show."
   ]
  },
  {
   "cell_type": "markdown",
   "metadata": {},
   "source": [
    "The Chinese Communist Party (CCP) has announced it's economic stimulus plan in response to the Covid-19 pandemic. The CCP has put in place plans to increase government spending in order to build new and improve existing infrastructure. This plan will stimulate the short term economy by creating jobs while being able to benefit in the long term, from a more efficient infrastructure after the pandemic is over. These projects have caused the demand for raw materials (example being construction metals) to increase drastically and has led the prices for scrap metal to record levels. Global shipping companies, being some of the most devastated companies from the Covid-19 pandemic, are looking to cash in on these scrap metal prices by selling some of their older and less fuel efficient industrial cargo ships (ships that would have otherwise continued to sail for much longer periods of times) for a short term injection of cash to hopefully be able to ride out the remainder of the economic slowdown we have experienced since March of 2020. This may cause a problem for the future global economy, as we have become so reliant on the merchant marine fleets; \"the unsung heroes of globalization\". This decrease in shipping capacity may indicate a slow down in globalization as countries look to become more self sufficient, moving forward after the pandemic. This would then have huge impacts on the global economy as the productivity and efficiency offered by specializtion will definitely be lessened. \n",
    "\n",
    "In this lab we look to explore this relationship between global gross domestic product and the total deadweight tons of the global merchant fleet (totaly shipping capacity) and try to capture the affect total shipping capacity will have on the global economy. To do this we will estimate a complex regression model that will also take into account world population, global unemployment, global energy consumption, and world literacy rate.\n",
    "\n",
    "The idea for this lab is from Economics Explained's most recent Youtube video uploaded on 12/03/2020. Here is a link to the video https://www.youtube.com/watch?v=qo-2gDg-37w."
   ]
  },
  {
   "cell_type": "markdown",
   "metadata": {},
   "source": [
    "<div class=\"alert alert-info\" role=\"alert\">\n",
    "</div>"
   ]
  },
  {
   "cell_type": "markdown",
   "metadata": {},
   "source": [
    "## Documentation\n",
    "\n",
    "[Back to Contents](#Contents)\n",
    "\n",
    "Appropriate documentation."
   ]
  },
  {
   "cell_type": "markdown",
   "metadata": {},
   "source": [
    "### Abstract\n",
    "\n",
    "[Back to Contents](#Contents)"
   ]
  },
  {
   "cell_type": "markdown",
   "metadata": {},
   "source": [
    "In this lab we explore the relationship world population, total deadweight tons of the global merchant fleet (total shipping capacity), total global energy consumption, total global unemployment rate, and world literacy rates has on global gross domestic product. Specifically, we try to create an OLS model that tries to predict global gross domestic product based on world population, total deadweight tons of the global merchant fleet (total shipping capacity), total global energy consumption, total global unemployment rate, and world literacy rates. We ultimately conclude that the fit is statistically significant with total global energy consumption having the highest affect on global gross domestic product, and this is further reinforced by the consistent statistical significance of total global energy consumption across all models developed. This leads us to conclude that total global energy consumption is definitely related to global gross domestic product in some degree."
   ]
  },
  {
   "cell_type": "markdown",
   "metadata": {},
   "source": [
    "### Data Dictionary\n",
    "\n",
    "[Back to Contents](#Contents)"
   ]
  },
  {
   "cell_type": "markdown",
   "metadata": {},
   "source": [
    "| Variable | Values   | Source | Mnemonic |\n",
    "|----------|----------|--------|----------|\n",
    "|Year|1991-2019||Year|\n",
    "|Global Gross Domestic Product|trillions of current $US|The World Bank|GGDP|\n",
    "|World Population|billions of people|Worldometers|PopulationScaled|\n",
    "|Total Deadweight Tons of Global Merchant Fleet|hundred of millions tons|United Nations Conference on Trade and Development|DWTonsScaled|\n",
    "|Total Global Energy Consumption|quad Btu|US Energy Information Administration|Energy|\n",
    "|Total Global Unemployment Rate|percentage|The World Bank|Unemployment|\n",
    "|World Literacy Rate|percentage|Macrotrends|Literacy|"
   ]
  },
  {
   "cell_type": "markdown",
   "metadata": {},
   "source": [
    "Note: The GGDP and Energy values for 2019 are projected values."
   ]
  },
  {
   "cell_type": "markdown",
   "metadata": {},
   "source": [
    "<div class=\"alert alert-info\" role=\"alert\">\n",
    "</div>"
   ]
  },
  {
   "cell_type": "markdown",
   "metadata": {},
   "source": [
    "## Pre-lab\n",
    "\n",
    "[Back to Contents](#Contents)\n",
    "\n",
    "Data description, testable hypotheses, statistical hypotheses."
   ]
  },
  {
   "cell_type": "markdown",
   "metadata": {},
   "source": [
    "### Type of Data"
   ]
  },
  {
   "cell_type": "markdown",
   "metadata": {},
   "source": [
    "This data is secondary, quantitative, macro time series data collected from a variety of sources. It is quantitative and macro because it contains only numerical data, aggregated over the entire world. Additionally, the data is collected starting from 1991 till 2019."
   ]
  },
  {
   "cell_type": "markdown",
   "metadata": {},
   "source": [
    "### Testable Hypothesis"
   ]
  },
  {
   "cell_type": "markdown",
   "metadata": {},
   "source": [
    "A potential testable hypothesis is: \n",
    "\n",
    "We expect the global gross domestic product to increase as total shipping capcity, world population, energy consumption, and world literacy rises, and when global unemployment rates decline. This is because, intuitively, high shipping capacity, energy consumption, and world literacy rates combined with a low unemployment rate should indicate a higher production output. Additionally as the global population rises, we would require more output in order to sustain growth and we have more labor resources to apply towards producitve output."
   ]
  },
  {
   "cell_type": "markdown",
   "metadata": {},
   "source": [
    "### Tentative Specific Model"
   ]
  },
  {
   "cell_type": "markdown",
   "metadata": {},
   "source": [
    "A potential specific model takes the form of:\n",
    "\n",
    "GGDP = beta0 + (beta1 x PopulationScaled) + (beta2 x DWTonsScaled) + (beta3 x Energy) + (beta4 x Unemployment) + (beta5 x Literacy) + noise\n",
    "\n",
    "where the parameters beta0 represents the intercept, beta1 represents the affect global population has on global gross domestic product, beta2 represents the affect total shipping capacity has on global gross domestic product, beta3 represents the affect total energy consumption has on global gross domestic product, beta4 represents the affect global unemployment has on global gross domestic product, beta5 represents the affect world literacy rates has on global gross domestic product, and noise repesents the random variations or error associated with statistical models."
   ]
  },
  {
   "cell_type": "markdown",
   "metadata": {},
   "source": [
    "### Statistical Hypothesis"
   ]
  },
  {
   "cell_type": "markdown",
   "metadata": {},
   "source": [
    "The statisitcal hypothesis corresponding to the testable hypotethis in regards to the parameters of the model takes the form of:\n",
    "\n",
    "- H0: beta1 = 0  Ha: beta1 > 0\n",
    "- H0: beta2 = 0  Ha: beta2 > 0\n",
    "- H0: beta3 = 0  Ha: beta3 > 0\n",
    "- H0: beta4 = 0  Ha: beta4 < 0\n",
    "- H0: beta5 = 0  Ha: beta5 > 0\n",
    "\n",
    "where the alternative of beta1, beta2, beta3, and beta5 states that global population, total shipping capacity, total energy consumption, and world literacy rate has a positive relationship with global gross domestic product, and the alternative of beta4 states that global unemployment has a negtive relationship with global gross domestic product. This follows from our testable hypothesis where we conluded, from intution, that as the world's population increases we must produce more to sustain the population which leads to increases in productivity and more energy consumption and more shipping capacity. Therefore any increases in unemployment should signal productive slowdowns which would then lead to lower global gross domestic product. \n",
    "\n",
    "The statisitcal hypothesis corresponding to the testable hypotethis in regards to the comparison of the naive and sophisticated model takes the form of:\n",
    "\n",
    "- H0: beta1 = beta2 = beta3 = beta4 = beta5 = 0\n",
    "- Ha: at least one parameter (beta1, beta2, beta3, beta4, beta5) ≠ 0\n",
    "\n",
    "where the null hypothesis says the naive (or restricted) model is better, and the alternative hypothesis says the sophisticated (or unrestricted) model is better. "
   ]
  },
  {
   "cell_type": "markdown",
   "metadata": {},
   "source": [
    "## Tasks\n",
    "\n",
    "[Back to Contents](#Contents)\n",
    "\n",
    "Data import, data examination, model estimation, elasticity calculations, portfolio construction.  Be sure to include all you learned this semester."
   ]
  },
  {
   "cell_type": "markdown",
   "metadata": {},
   "source": [
    "### Data Import"
   ]
  },
  {
   "cell_type": "code",
   "execution_count": 1,
   "metadata": {},
   "outputs": [],
   "source": [
    "#import libs\n",
    "\n",
    "import numpy as np\n",
    "import pandas as pd\n",
    "import statsmodels.api as sm\n",
    "import statsmodels.formula.api as smf \n",
    "from statsmodels.iolib.summary2 import summary_col\n",
    "from statsmodels.stats.api import anova_lm\n",
    "import matplotlib.pyplot as plt\n",
    "import seaborn as sns"
   ]
  },
  {
   "cell_type": "code",
   "execution_count": 2,
   "metadata": {},
   "outputs": [
    {
     "data": {
      "text/html": [
       "<div>\n",
       "<style scoped>\n",
       "    .dataframe tbody tr th:only-of-type {\n",
       "        vertical-align: middle;\n",
       "    }\n",
       "\n",
       "    .dataframe tbody tr th {\n",
       "        vertical-align: top;\n",
       "    }\n",
       "\n",
       "    .dataframe thead th {\n",
       "        text-align: right;\n",
       "    }\n",
       "</style>\n",
       "<table border=\"1\" class=\"dataframe\">\n",
       "  <thead>\n",
       "    <tr style=\"text-align: right;\">\n",
       "      <th></th>\n",
       "      <th>GGDP</th>\n",
       "      <th>Population</th>\n",
       "      <th>DWTons</th>\n",
       "      <th>Energy</th>\n",
       "      <th>Unemployment</th>\n",
       "      <th>Literacy</th>\n",
       "      <th>PopulationScaled</th>\n",
       "      <th>DWTonsScaled</th>\n",
       "    </tr>\n",
       "    <tr>\n",
       "      <th>Year</th>\n",
       "      <th></th>\n",
       "      <th></th>\n",
       "      <th></th>\n",
       "      <th></th>\n",
       "      <th></th>\n",
       "      <th></th>\n",
       "      <th></th>\n",
       "      <th></th>\n",
       "    </tr>\n",
       "  </thead>\n",
       "  <tbody>\n",
       "    <tr>\n",
       "      <th>2019</th>\n",
       "      <td>87.698</td>\n",
       "      <td>7713468100</td>\n",
       "      <td>1.988305e+06</td>\n",
       "      <td>620.000</td>\n",
       "      <td>5.395</td>\n",
       "      <td>86.30</td>\n",
       "      <td>7.713468</td>\n",
       "      <td>19.883051</td>\n",
       "    </tr>\n",
       "    <tr>\n",
       "      <th>2018</th>\n",
       "      <td>86.357</td>\n",
       "      <td>7631091040</td>\n",
       "      <td>1.937777e+06</td>\n",
       "      <td>598.006</td>\n",
       "      <td>5.392</td>\n",
       "      <td>86.30</td>\n",
       "      <td>7.631091</td>\n",
       "      <td>19.377770</td>\n",
       "    </tr>\n",
       "    <tr>\n",
       "      <th>2017</th>\n",
       "      <td>81.229</td>\n",
       "      <td>7547858925</td>\n",
       "      <td>1.868174e+06</td>\n",
       "      <td>583.929</td>\n",
       "      <td>5.570</td>\n",
       "      <td>86.13</td>\n",
       "      <td>7.547859</td>\n",
       "      <td>18.681738</td>\n",
       "    </tr>\n",
       "    <tr>\n",
       "      <th>2016</th>\n",
       "      <td>76.336</td>\n",
       "      <td>7464022049</td>\n",
       "      <td>1.811526e+06</td>\n",
       "      <td>575.594</td>\n",
       "      <td>5.670</td>\n",
       "      <td>85.89</td>\n",
       "      <td>7.464022</td>\n",
       "      <td>18.115264</td>\n",
       "    </tr>\n",
       "    <tr>\n",
       "      <th>2015</th>\n",
       "      <td>75.199</td>\n",
       "      <td>7379797139</td>\n",
       "      <td>1.753092e+06</td>\n",
       "      <td>568.778</td>\n",
       "      <td>5.638</td>\n",
       "      <td>85.60</td>\n",
       "      <td>7.379797</td>\n",
       "      <td>17.530919</td>\n",
       "    </tr>\n",
       "  </tbody>\n",
       "</table>\n",
       "</div>"
      ],
      "text/plain": [
       "        GGDP  Population        DWTons   Energy  Unemployment  Literacy  \\\n",
       "Year                                                                      \n",
       "2019  87.698  7713468100  1.988305e+06  620.000         5.395     86.30   \n",
       "2018  86.357  7631091040  1.937777e+06  598.006         5.392     86.30   \n",
       "2017  81.229  7547858925  1.868174e+06  583.929         5.570     86.13   \n",
       "2016  76.336  7464022049  1.811526e+06  575.594         5.670     85.89   \n",
       "2015  75.199  7379797139  1.753092e+06  568.778         5.638     85.60   \n",
       "\n",
       "      PopulationScaled  DWTonsScaled  \n",
       "Year                                  \n",
       "2019          7.713468     19.883051  \n",
       "2018          7.631091     19.377770  \n",
       "2017          7.547859     18.681738  \n",
       "2016          7.464022     18.115264  \n",
       "2015          7.379797     17.530919  "
      ]
     },
     "execution_count": 2,
     "metadata": {},
     "output_type": "execute_result"
    }
   ],
   "source": [
    "#import data and set row index to year\n",
    "\n",
    "df = pd.read_excel('lab7Data.xlsx', index_col = 'Year')\n",
    "df.head()"
   ]
  },
  {
   "cell_type": "code",
   "execution_count": 3,
   "metadata": {},
   "outputs": [
    {
     "data": {
      "text/html": [
       "<div>\n",
       "<style scoped>\n",
       "    .dataframe tbody tr th:only-of-type {\n",
       "        vertical-align: middle;\n",
       "    }\n",
       "\n",
       "    .dataframe tbody tr th {\n",
       "        vertical-align: top;\n",
       "    }\n",
       "\n",
       "    .dataframe thead th {\n",
       "        text-align: right;\n",
       "    }\n",
       "</style>\n",
       "<table border=\"1\" class=\"dataframe\">\n",
       "  <thead>\n",
       "    <tr style=\"text-align: right;\">\n",
       "      <th></th>\n",
       "      <th>GGDP</th>\n",
       "      <th>PopulationScaled</th>\n",
       "      <th>DWTonsScaled</th>\n",
       "      <th>Energy</th>\n",
       "      <th>Unemployment</th>\n",
       "      <th>Literacy</th>\n",
       "    </tr>\n",
       "    <tr>\n",
       "      <th>Year</th>\n",
       "      <th></th>\n",
       "      <th></th>\n",
       "      <th></th>\n",
       "      <th></th>\n",
       "      <th></th>\n",
       "      <th></th>\n",
       "    </tr>\n",
       "  </thead>\n",
       "  <tbody>\n",
       "    <tr>\n",
       "      <th>2019</th>\n",
       "      <td>87.698</td>\n",
       "      <td>7.713468</td>\n",
       "      <td>19.883051</td>\n",
       "      <td>620.000</td>\n",
       "      <td>5.395</td>\n",
       "      <td>86.30</td>\n",
       "    </tr>\n",
       "    <tr>\n",
       "      <th>2018</th>\n",
       "      <td>86.357</td>\n",
       "      <td>7.631091</td>\n",
       "      <td>19.377770</td>\n",
       "      <td>598.006</td>\n",
       "      <td>5.392</td>\n",
       "      <td>86.30</td>\n",
       "    </tr>\n",
       "    <tr>\n",
       "      <th>2017</th>\n",
       "      <td>81.229</td>\n",
       "      <td>7.547859</td>\n",
       "      <td>18.681738</td>\n",
       "      <td>583.929</td>\n",
       "      <td>5.570</td>\n",
       "      <td>86.13</td>\n",
       "    </tr>\n",
       "    <tr>\n",
       "      <th>2016</th>\n",
       "      <td>76.336</td>\n",
       "      <td>7.464022</td>\n",
       "      <td>18.115264</td>\n",
       "      <td>575.594</td>\n",
       "      <td>5.670</td>\n",
       "      <td>85.89</td>\n",
       "    </tr>\n",
       "    <tr>\n",
       "      <th>2015</th>\n",
       "      <td>75.199</td>\n",
       "      <td>7.379797</td>\n",
       "      <td>17.530919</td>\n",
       "      <td>568.778</td>\n",
       "      <td>5.638</td>\n",
       "      <td>85.60</td>\n",
       "    </tr>\n",
       "  </tbody>\n",
       "</table>\n",
       "</div>"
      ],
      "text/plain": [
       "        GGDP  PopulationScaled  DWTonsScaled   Energy  Unemployment  Literacy\n",
       "Year                                                                         \n",
       "2019  87.698          7.713468     19.883051  620.000         5.395     86.30\n",
       "2018  86.357          7.631091     19.377770  598.006         5.392     86.30\n",
       "2017  81.229          7.547859     18.681738  583.929         5.570     86.13\n",
       "2016  76.336          7.464022     18.115264  575.594         5.670     85.89\n",
       "2015  75.199          7.379797     17.530919  568.778         5.638     85.60"
      ]
     },
     "execution_count": 3,
     "metadata": {},
     "output_type": "execute_result"
    }
   ],
   "source": [
    "#drop redundant columns\n",
    "\n",
    "df = df[['GGDP', 'PopulationScaled', 'DWTonsScaled', 'Energy', 'Unemployment', 'Literacy']]\n",
    "df.head()"
   ]
  },
  {
   "cell_type": "code",
   "execution_count": 4,
   "metadata": {
    "scrolled": false
   },
   "outputs": [
    {
     "data": {
      "text/html": [
       "<div>\n",
       "<style scoped>\n",
       "    .dataframe tbody tr th:only-of-type {\n",
       "        vertical-align: middle;\n",
       "    }\n",
       "\n",
       "    .dataframe tbody tr th {\n",
       "        vertical-align: top;\n",
       "    }\n",
       "\n",
       "    .dataframe thead th {\n",
       "        text-align: right;\n",
       "    }\n",
       "</style>\n",
       "<table border=\"1\" class=\"dataframe\">\n",
       "  <thead>\n",
       "    <tr style=\"text-align: right;\">\n",
       "      <th></th>\n",
       "      <th>count</th>\n",
       "      <th>mean</th>\n",
       "      <th>std</th>\n",
       "      <th>min</th>\n",
       "      <th>25%</th>\n",
       "      <th>50%</th>\n",
       "      <th>75%</th>\n",
       "      <th>max</th>\n",
       "    </tr>\n",
       "  </thead>\n",
       "  <tbody>\n",
       "    <tr>\n",
       "      <th>GGDP</th>\n",
       "      <td>29.0</td>\n",
       "      <td>51.892828</td>\n",
       "      <td>21.842192</td>\n",
       "      <td>23.967000</td>\n",
       "      <td>31.573000</td>\n",
       "      <td>47.517000</td>\n",
       "      <td>75.146000</td>\n",
       "      <td>87.698000</td>\n",
       "    </tr>\n",
       "    <tr>\n",
       "      <th>PopulationScaled</th>\n",
       "      <td>29.0</td>\n",
       "      <td>6.554847</td>\n",
       "      <td>0.696896</td>\n",
       "      <td>5.414289</td>\n",
       "      <td>5.984794</td>\n",
       "      <td>6.541907</td>\n",
       "      <td>7.125828</td>\n",
       "      <td>7.713468</td>\n",
       "    </tr>\n",
       "    <tr>\n",
       "      <th>DWTonsScaled</th>\n",
       "      <td>29.0</td>\n",
       "      <td>11.290307</td>\n",
       "      <td>4.520854</td>\n",
       "      <td>6.512820</td>\n",
       "      <td>7.728012</td>\n",
       "      <td>9.074743</td>\n",
       "      <td>15.374839</td>\n",
       "      <td>19.883051</td>\n",
       "    </tr>\n",
       "    <tr>\n",
       "      <th>Energy</th>\n",
       "      <td>29.0</td>\n",
       "      <td>466.414103</td>\n",
       "      <td>87.538966</td>\n",
       "      <td>351.696000</td>\n",
       "      <td>382.076000</td>\n",
       "      <td>465.007000</td>\n",
       "      <td>549.766000</td>\n",
       "      <td>620.000000</td>\n",
       "    </tr>\n",
       "    <tr>\n",
       "      <th>Unemployment</th>\n",
       "      <td>29.0</td>\n",
       "      <td>5.645241</td>\n",
       "      <td>0.330158</td>\n",
       "      <td>4.758000</td>\n",
       "      <td>5.430000</td>\n",
       "      <td>5.670000</td>\n",
       "      <td>5.854000</td>\n",
       "      <td>6.189000</td>\n",
       "    </tr>\n",
       "    <tr>\n",
       "      <th>Literacy</th>\n",
       "      <td>29.0</td>\n",
       "      <td>81.777586</td>\n",
       "      <td>3.606607</td>\n",
       "      <td>74.910000</td>\n",
       "      <td>80.210000</td>\n",
       "      <td>82.410000</td>\n",
       "      <td>84.730000</td>\n",
       "      <td>86.300000</td>\n",
       "    </tr>\n",
       "  </tbody>\n",
       "</table>\n",
       "</div>"
      ],
      "text/plain": [
       "                  count        mean        std         min         25%  \\\n",
       "GGDP               29.0   51.892828  21.842192   23.967000   31.573000   \n",
       "PopulationScaled   29.0    6.554847   0.696896    5.414289    5.984794   \n",
       "DWTonsScaled       29.0   11.290307   4.520854    6.512820    7.728012   \n",
       "Energy             29.0  466.414103  87.538966  351.696000  382.076000   \n",
       "Unemployment       29.0    5.645241   0.330158    4.758000    5.430000   \n",
       "Literacy           29.0   81.777586   3.606607   74.910000   80.210000   \n",
       "\n",
       "                         50%         75%         max  \n",
       "GGDP               47.517000   75.146000   87.698000  \n",
       "PopulationScaled    6.541907    7.125828    7.713468  \n",
       "DWTonsScaled        9.074743   15.374839   19.883051  \n",
       "Energy            465.007000  549.766000  620.000000  \n",
       "Unemployment        5.670000    5.854000    6.189000  \n",
       "Literacy           82.410000   84.730000   86.300000  "
      ]
     },
     "execution_count": 4,
     "metadata": {},
     "output_type": "execute_result"
    }
   ],
   "source": [
    "#descriptive stats\n",
    "\n",
    "df.describe().T"
   ]
  },
  {
   "cell_type": "markdown",
   "metadata": {},
   "source": [
    "### Data Exploration"
   ]
  },
  {
   "cell_type": "code",
   "execution_count": 5,
   "metadata": {},
   "outputs": [
    {
     "data": {
      "image/png": "[encoded data removed]",
      "text/plain": [
       "<Figure size 432x288 with 1 Axes>"
      ]
     },
     "metadata": {
      "needs_background": "light"
     },
     "output_type": "display_data"
    }
   ],
   "source": [
    "#graph 1: GGDP over time\n",
    "\n",
    "ax = sns.lineplot( y = 'GGDP', x = df.index, data = df);\n",
    "ax.set(title = \"Global Gross Domestic Product over Time (1991-2019)\", \n",
    "       xlabel = '', \n",
    "       ylabel = 'Global Gross Domestic Product');"
   ]
  },
  {
   "cell_type": "code",
   "execution_count": 6,
   "metadata": {},
   "outputs": [
    {
     "data": {
      "image/png": "[encoded data removed]",
      "text/plain": [
       "<Figure size 432x288 with 1 Axes>"
      ]
     },
     "metadata": {
      "needs_background": "light"
     },
     "output_type": "display_data"
    }
   ],
   "source": [
    "#graph 2: Population over time\n",
    "\n",
    "ax = sns.lineplot( y = 'PopulationScaled', x = df.index, data = df);\n",
    "ax.set(title = \"Global Population over Time (1991-2019)\", \n",
    "       xlabel = '', \n",
    "       ylabel = 'Global Population (in billions)');"
   ]
  },
  {
   "cell_type": "code",
   "execution_count": 7,
   "metadata": {},
   "outputs": [
    {
     "data": {
      "image/png": "[encoded data removed]",
      "text/plain": [
       "<Figure size 432x288 with 1 Axes>"
      ]
     },
     "metadata": {
      "needs_background": "light"
     },
     "output_type": "display_data"
    }
   ],
   "source": [
    "#graph 3: DWTonsScaled over time\n",
    "\n",
    "ax = sns.lineplot( y = 'DWTonsScaled', x = df.index, data = df);\n",
    "ax.set(title = \"Total Deadweight Tons of Global Merchant Fleet\\n (total shipping capctiy)\\n over Time (1991-2019)\", \n",
    "       xlabel = '', \n",
    "       ylabel = 'Total Deadweight Tons of\\n Global Merchant Fleet\\n (in hundred of millions tons)');"
   ]
  },
  {
   "cell_type": "code",
   "execution_count": 8,
   "metadata": {},
   "outputs": [
    {
     "data": {
      "image/png": "[encoded data removed]",
      "text/plain": [
       "<Figure size 432x288 with 1 Axes>"
      ]
     },
     "metadata": {
      "needs_background": "light"
     },
     "output_type": "display_data"
    }
   ],
   "source": [
    "#graph 4: Energy over time\n",
    "\n",
    "ax = sns.lineplot( y = 'Energy', x = df.index, data = df);\n",
    "ax.set(title = \"Global Energy Consumption over Time (1991-2019)\", \n",
    "       xlabel = '', \n",
    "       ylabel = 'Global Energy Consumption');"
   ]
  },
  {
   "cell_type": "code",
   "execution_count": 9,
   "metadata": {},
   "outputs": [
    {
     "data": {
      "image/png": "[encoded data removed]",
      "text/plain": [
       "<Figure size 432x288 with 1 Axes>"
      ]
     },
     "metadata": {
      "needs_background": "light"
     },
     "output_type": "display_data"
    }
   ],
   "source": [
    "#graph 5: Unemployment over time\n",
    "\n",
    "ax = sns.lineplot( y = 'Unemployment', x = df.index, data = df);\n",
    "ax.set(title = \"Global Unemployment over Time (1991-2019)\", \n",
    "       xlabel = '', \n",
    "       ylabel = 'Global Unemployment Rate');"
   ]
  },
  {
   "cell_type": "code",
   "execution_count": 10,
   "metadata": {},
   "outputs": [
    {
     "data": {
      "image/png": "[encoded data removed]",
      "text/plain": [
       "<Figure size 432x288 with 1 Axes>"
      ]
     },
     "metadata": {
      "needs_background": "light"
     },
     "output_type": "display_data"
    }
   ],
   "source": [
    "#graph 6: Literacy over time\n",
    "\n",
    "ax = sns.lineplot( y = 'Literacy', x = df.index, data = df);\n",
    "ax.set(title = \"Global Literacy Rate over Time (1991-2019)\", \n",
    "       xlabel = '', \n",
    "       ylabel = 'Global Literacy Rate');"
   ]
  },
  {
   "cell_type": "code",
   "execution_count": 11,
   "metadata": {},
   "outputs": [
    {
     "data": {
      "image/png": "[encoded data removed]",
      "text/plain": [
       "<Figure size 360x360 with 1 Axes>"
      ]
     },
     "metadata": {
      "needs_background": "light"
     },
     "output_type": "display_data"
    }
   ],
   "source": [
    "#correlation 1: Population vs GGDP\n",
    "\n",
    "ax = sns.relplot( x = 'PopulationScaled', y = 'GGDP', data = df)\n",
    "ax.set(title = 'Global Population vs Global Gross Domestic Product', \n",
    "       xlabel = 'Global Population (in billions)', \n",
    "       ylabel = 'Global Gross Domestic Product');"
   ]
  },
  {
   "cell_type": "code",
   "execution_count": 12,
   "metadata": {},
   "outputs": [
    {
     "data": {
      "image/png": "[encoded data removed]",
      "text/plain": [
       "<Figure size 360x360 with 1 Axes>"
      ]
     },
     "metadata": {
      "needs_background": "light"
     },
     "output_type": "display_data"
    }
   ],
   "source": [
    "#correlation 2: DWTonsScaled vs GGDP\n",
    "\n",
    "ax = sns.relplot( x = 'DWTonsScaled', y = 'GGDP', data = df)\n",
    "ax.set(title = 'Total Deadweight Tons of Global Merchant Fleet vs Global Gross Domestic Product', \n",
    "       xlabel = 'Total Deadweight Tons of Global Merchant Fleet \\n (in hundred of millions tons)', \n",
    "       ylabel = 'Global Gross Domestic Product');"
   ]
  },
  {
   "cell_type": "code",
   "execution_count": 13,
   "metadata": {},
   "outputs": [
    {
     "data": {
      "image/png": "[encoded data removed]",
      "text/plain": [
       "<Figure size 360x360 with 1 Axes>"
      ]
     },
     "metadata": {
      "needs_background": "light"
     },
     "output_type": "display_data"
    }
   ],
   "source": [
    "#correlation 3: Energy vs GGDP\n",
    "\n",
    "ax = sns.relplot( x = 'Energy', y = 'GGDP', data = df)\n",
    "ax.set(title = 'Global Energy Consumption vs Global Gross Domestic Product', \n",
    "       xlabel = 'Global Energy Consumption', \n",
    "       ylabel = 'Global Gross Domestic Product');"
   ]
  },
  {
   "cell_type": "code",
   "execution_count": 14,
   "metadata": {},
   "outputs": [
    {
     "data": {
      "image/png": "[encoded data removed]",
      "text/plain": [
       "<Figure size 360x360 with 1 Axes>"
      ]
     },
     "metadata": {
      "needs_background": "light"
     },
     "output_type": "display_data"
    }
   ],
   "source": [
    "#correlation 4: Unemployment vs GGDP\n",
    "\n",
    "ax = sns.relplot( x = 'Unemployment', y = 'GGDP', data = df)\n",
    "ax.set(title = 'Global Unemployment Rate vs Global Gross Domestic Product', \n",
    "       xlabel = 'Global Unemployment Rate', \n",
    "       ylabel = 'Global Gross Domestic Product');"
   ]
  },
  {
   "cell_type": "code",
   "execution_count": 15,
   "metadata": {},
   "outputs": [
    {
     "data": {
      "image/png": "[encoded data removed]",
      "text/plain": [
       "<Figure size 360x360 with 1 Axes>"
      ]
     },
     "metadata": {
      "needs_background": "light"
     },
     "output_type": "display_data"
    }
   ],
   "source": [
    "#correlation 5: Literacy vs GGDP\n",
    "\n",
    "ax = sns.relplot( x = 'Literacy', y = 'GGDP', data = df)\n",
    "ax.set(title = 'Global Literacy Rate vs Global Gross Domestic Product', \n",
    "       xlabel = 'Global Literacy Rate', \n",
    "       ylabel = 'Global Gross Domestic Product');"
   ]
  },
  {
   "cell_type": "code",
   "execution_count": 16,
   "metadata": {},
   "outputs": [
    {
     "data": {
      "text/html": [
       "<div>\n",
       "<style scoped>\n",
       "    .dataframe tbody tr th:only-of-type {\n",
       "        vertical-align: middle;\n",
       "    }\n",
       "\n",
       "    .dataframe tbody tr th {\n",
       "        vertical-align: top;\n",
       "    }\n",
       "\n",
       "    .dataframe thead th {\n",
       "        text-align: right;\n",
       "    }\n",
       "</style>\n",
       "<table border=\"1\" class=\"dataframe\">\n",
       "  <thead>\n",
       "    <tr style=\"text-align: right;\">\n",
       "      <th></th>\n",
       "      <th>GGDP</th>\n",
       "      <th>PopulationScaled</th>\n",
       "      <th>DWTonsScaled</th>\n",
       "      <th>Energy</th>\n",
       "      <th>Unemployment</th>\n",
       "      <th>Literacy</th>\n",
       "    </tr>\n",
       "  </thead>\n",
       "  <tbody>\n",
       "    <tr>\n",
       "      <th>GGDP</th>\n",
       "      <td>1.000000</td>\n",
       "      <td>0.976163</td>\n",
       "      <td>0.967675</td>\n",
       "      <td>0.992881</td>\n",
       "      <td>0.089585</td>\n",
       "      <td>0.913640</td>\n",
       "    </tr>\n",
       "    <tr>\n",
       "      <th>PopulationScaled</th>\n",
       "      <td>0.976163</td>\n",
       "      <td>1.000000</td>\n",
       "      <td>0.951171</td>\n",
       "      <td>0.990696</td>\n",
       "      <td>0.236587</td>\n",
       "      <td>0.970719</td>\n",
       "    </tr>\n",
       "    <tr>\n",
       "      <th>DWTonsScaled</th>\n",
       "      <td>0.967675</td>\n",
       "      <td>0.951171</td>\n",
       "      <td>1.000000</td>\n",
       "      <td>0.963606</td>\n",
       "      <td>0.027839</td>\n",
       "      <td>0.863517</td>\n",
       "    </tr>\n",
       "    <tr>\n",
       "      <th>Energy</th>\n",
       "      <td>0.992881</td>\n",
       "      <td>0.990696</td>\n",
       "      <td>0.963606</td>\n",
       "      <td>1.000000</td>\n",
       "      <td>0.135322</td>\n",
       "      <td>0.940330</td>\n",
       "    </tr>\n",
       "    <tr>\n",
       "      <th>Unemployment</th>\n",
       "      <td>0.089585</td>\n",
       "      <td>0.236587</td>\n",
       "      <td>0.027839</td>\n",
       "      <td>0.135322</td>\n",
       "      <td>1.000000</td>\n",
       "      <td>0.401828</td>\n",
       "    </tr>\n",
       "    <tr>\n",
       "      <th>Literacy</th>\n",
       "      <td>0.913640</td>\n",
       "      <td>0.970719</td>\n",
       "      <td>0.863517</td>\n",
       "      <td>0.940330</td>\n",
       "      <td>0.401828</td>\n",
       "      <td>1.000000</td>\n",
       "    </tr>\n",
       "  </tbody>\n",
       "</table>\n",
       "</div>"
      ],
      "text/plain": [
       "                      GGDP  PopulationScaled  DWTonsScaled    Energy  \\\n",
       "GGDP              1.000000          0.976163      0.967675  0.992881   \n",
       "PopulationScaled  0.976163          1.000000      0.951171  0.990696   \n",
       "DWTonsScaled      0.967675          0.951171      1.000000  0.963606   \n",
       "Energy            0.992881          0.990696      0.963606  1.000000   \n",
       "Unemployment      0.089585          0.236587      0.027839  0.135322   \n",
       "Literacy          0.913640          0.970719      0.863517  0.940330   \n",
       "\n",
       "                  Unemployment  Literacy  \n",
       "GGDP                  0.089585  0.913640  \n",
       "PopulationScaled      0.236587  0.970719  \n",
       "DWTonsScaled          0.027839  0.863517  \n",
       "Energy                0.135322  0.940330  \n",
       "Unemployment          1.000000  0.401828  \n",
       "Literacy              0.401828  1.000000  "
      ]
     },
     "execution_count": 16,
     "metadata": {},
     "output_type": "execute_result"
    }
   ],
   "source": [
    "#correlation matrix\n",
    "\n",
    "df.corr()"
   ]
  },
  {
   "cell_type": "code",
   "execution_count": 17,
   "metadata": {},
   "outputs": [
    {
     "data": {
      "image/png": "[encoded data removed]",
      "text/plain": [
       "<Figure size 432x288 with 2 Axes>"
      ]
     },
     "metadata": {
      "needs_background": "light"
     },
     "output_type": "display_data"
    }
   ],
   "source": [
    "# graph of correlation matrix\n",
    "\n",
    "ax = sns.heatmap(df.corr(),annot = True, cmap = 'coolwarm').set_title('Heatmap of the Correlation Matrix');"
   ]
  },
  {
   "cell_type": "markdown",
   "metadata": {},
   "source": [
    "### Model(s) Estimation"
   ]
  },
  {
   "cell_type": "code",
   "execution_count": 18,
   "metadata": {},
   "outputs": [
    {
     "name": "stdout",
     "output_type": "stream",
     "text": [
      "                            OLS Regression Results                            \n",
      "==============================================================================\n",
      "Dep. Variable:                   GGDP   R-squared:                       0.990\n",
      "Model:                            OLS   Adj. R-squared:                  0.988\n",
      "Method:                 Least Squares   F-statistic:                     470.3\n",
      "Date:                Sun, 06 Dec 2020   Prob (F-statistic):           2.34e-22\n",
      "Time:                        16:06:24   Log-Likelihood:                -62.836\n",
      "No. Observations:                  29   AIC:                             137.7\n",
      "Df Residuals:                      23   BIC:                             145.9\n",
      "Df Model:                           5                                         \n",
      "Covariance Type:            nonrobust                                         \n",
      "====================================================================================\n",
      "                       coef    std err          t      P>|t|      [0.025      0.975]\n",
      "------------------------------------------------------------------------------------\n",
      "Intercept          -18.9386     35.072     -0.540      0.594     -91.490      53.612\n",
      "PopulationScaled   -16.5643     12.054     -1.374      0.183     -41.500       8.371\n",
      "DWTonsScaled         0.8128      0.557      1.460      0.158      -0.339       1.964\n",
      "Energy               0.3347      0.059      5.675      0.000       0.213       0.457\n",
      "Unemployment         1.6092      2.484      0.648      0.524      -3.530       6.749\n",
      "Literacy             0.0614      1.026      0.060      0.953      -2.062       2.185\n",
      "==============================================================================\n",
      "Omnibus:                        0.421   Durbin-Watson:                   1.016\n",
      "Prob(Omnibus):                  0.810   Jarque-Bera (JB):                0.545\n",
      "Skew:                           0.233   Prob(JB):                        0.762\n",
      "Kurtosis:                       2.516   Cond. No.                     3.88e+04\n",
      "==============================================================================\n",
      "\n",
      "Notes:\n",
      "[1] Standard Errors assume that the covariance matrix of the errors is correctly specified.\n",
      "[2] The condition number is large, 3.88e+04. This might indicate that there are\n",
      "strong multicollinearity or other numerical problems.\n"
     ]
    }
   ],
   "source": [
    "#regression 1: all variables used\n",
    "\n",
    "mod1 = smf.ols(formula = \"GGDP ~ PopulationScaled + DWTonsScaled + Energy + Unemployment + Literacy\", data = df)\n",
    "reg1 = mod1.fit()\n",
    "print(reg1.summary())"
   ]
  },
  {
   "cell_type": "code",
   "execution_count": 19,
   "metadata": {},
   "outputs": [
    {
     "name": "stdout",
     "output_type": "stream",
     "text": [
      "                            OLS Regression Results                            \n",
      "==============================================================================\n",
      "Dep. Variable:                   GGDP   R-squared:                       0.936\n",
      "Model:                            OLS   Adj. R-squared:                  0.934\n",
      "Method:                 Least Squares   F-statistic:                     397.5\n",
      "Date:                Sun, 06 Dec 2020   Prob (F-statistic):           1.10e-17\n",
      "Time:                        16:06:24   Log-Likelihood:                -90.123\n",
      "No. Observations:                  29   AIC:                             184.2\n",
      "Df Residuals:                      27   BIC:                             187.0\n",
      "Df Model:                           1                                         \n",
      "Covariance Type:            nonrobust                                         \n",
      "================================================================================\n",
      "                   coef    std err          t      P>|t|      [0.025      0.975]\n",
      "--------------------------------------------------------------------------------\n",
      "Intercept       -0.8923      2.845     -0.314      0.756      -6.730       4.945\n",
      "DWTonsScaled     4.6753      0.234     19.937      0.000       4.194       5.156\n",
      "==============================================================================\n",
      "Omnibus:                        3.622   Durbin-Watson:                   0.217\n",
      "Prob(Omnibus):                  0.163   Jarque-Bera (JB):                3.013\n",
      "Skew:                           0.688   Prob(JB):                        0.222\n",
      "Kurtosis:                       2.225   Cond. No.                         33.3\n",
      "==============================================================================\n",
      "\n",
      "Notes:\n",
      "[1] Standard Errors assume that the covariance matrix of the errors is correctly specified.\n"
     ]
    }
   ],
   "source": [
    "#regression 2: DWTonsScaled only\n",
    "\n",
    "mod2 = smf.ols(formula = \"GGDP ~ DWTonsScaled\", data = df)\n",
    "reg2 = mod2.fit()\n",
    "print(reg2.summary())"
   ]
  },
  {
   "cell_type": "code",
   "execution_count": 20,
   "metadata": {},
   "outputs": [
    {
     "name": "stdout",
     "output_type": "stream",
     "text": [
      "                            OLS Regression Results                            \n",
      "==============================================================================\n",
      "Dep. Variable:                   GGDP   R-squared:                       0.988\n",
      "Model:                            OLS   Adj. R-squared:                  0.987\n",
      "Method:                 Least Squares   F-statistic:                     716.2\n",
      "Date:                Sun, 06 Dec 2020   Prob (F-statistic):           2.35e-24\n",
      "Time:                        16:06:24   Log-Likelihood:                -65.326\n",
      "No. Observations:                  29   AIC:                             138.7\n",
      "Df Residuals:                      25   BIC:                             144.1\n",
      "Df Model:                           3                                         \n",
      "Covariance Type:            nonrobust                                         \n",
      "================================================================================\n",
      "                   coef    std err          t      P>|t|      [0.025      0.975]\n",
      "--------------------------------------------------------------------------------\n",
      "Intercept      -45.2592      8.337     -5.428      0.000     -62.431     -28.088\n",
      "DWTonsScaled     0.4972      0.420      1.183      0.248      -0.369       1.363\n",
      "Energy           0.2242      0.022     10.233      0.000       0.179       0.269\n",
      "Unemployment    -2.3060      1.553     -1.485      0.150      -5.505       0.893\n",
      "==============================================================================\n",
      "Omnibus:                        4.571   Durbin-Watson:                   0.676\n",
      "Prob(Omnibus):                  0.102   Jarque-Bera (JB):                1.744\n",
      "Skew:                           0.153   Prob(JB):                        0.418\n",
      "Kurtosis:                       1.838   Cond. No.                     8.68e+03\n",
      "==============================================================================\n",
      "\n",
      "Notes:\n",
      "[1] Standard Errors assume that the covariance matrix of the errors is correctly specified.\n",
      "[2] The condition number is large, 8.68e+03. This might indicate that there are\n",
      "strong multicollinearity or other numerical problems.\n"
     ]
    }
   ],
   "source": [
    "#regression 3: DWTonsScaled, Energy, and Unemployment only\n",
    "\n",
    "mod3 = smf.ols(formula = \"GGDP ~ DWTonsScaled + Energy + Unemployment\", data = df)\n",
    "reg3 = mod3.fit()\n",
    "print(reg3.summary())"
   ]
  },
  {
   "cell_type": "code",
   "execution_count": 21,
   "metadata": {},
   "outputs": [
    {
     "name": "stdout",
     "output_type": "stream",
     "text": [
      "                            OLS Regression Results                            \n",
      "==============================================================================\n",
      "Dep. Variable:                   GGDP   R-squared:                       0.988\n",
      "Model:                            OLS   Adj. R-squared:                  0.987\n",
      "Method:                 Least Squares   F-statistic:                     716.2\n",
      "Date:                Sun, 06 Dec 2020   Prob (F-statistic):           2.35e-24\n",
      "Time:                        16:06:24   Log-Likelihood:                -65.326\n",
      "No. Observations:                  29   AIC:                             138.7\n",
      "Df Residuals:                      25   BIC:                             144.1\n",
      "Df Model:                           3                                         \n",
      "Covariance Type:            nonrobust                                         \n",
      "================================================================================\n",
      "                   coef    std err          t      P>|t|      [0.025      0.975]\n",
      "--------------------------------------------------------------------------------\n",
      "Intercept      -45.2592      8.337     -5.428      0.000     -62.431     -28.088\n",
      "DWTonsScaled     0.4972      0.420      1.183      0.248      -0.369       1.363\n",
      "Energy           0.2242      0.022     10.233      0.000       0.179       0.269\n",
      "Unemployment    -2.3060      1.553     -1.485      0.150      -5.505       0.893\n",
      "==============================================================================\n",
      "Omnibus:                        4.571   Durbin-Watson:                   0.676\n",
      "Prob(Omnibus):                  0.102   Jarque-Bera (JB):                1.744\n",
      "Skew:                           0.153   Prob(JB):                        0.418\n",
      "Kurtosis:                       1.838   Cond. No.                     8.68e+03\n",
      "==============================================================================\n",
      "\n",
      "Notes:\n",
      "[1] Standard Errors assume that the covariance matrix of the errors is correctly specified.\n",
      "[2] The condition number is large, 8.68e+03. This might indicate that there are\n",
      "strong multicollinearity or other numerical problems.\n"
     ]
    }
   ],
   "source": [
    "#regression 4: Energy only\n",
    "\n",
    "mod4 = smf.ols(formula = \"GGDP ~ Energy\", data = df)\n",
    "reg4 = mod4.fit()\n",
    "print(reg3.summary())"
   ]
  },
  {
   "cell_type": "code",
   "execution_count": 22,
   "metadata": {
    "scrolled": false
   },
   "outputs": [
    {
     "name": "stdout",
     "output_type": "stream",
     "text": [
      "                            OLS Regression Results                            \n",
      "==============================================================================\n",
      "Dep. Variable:                   GGDP   R-squared:                       0.000\n",
      "Model:                            OLS   Adj. R-squared:                  0.000\n",
      "Method:                 Least Squares   F-statistic:                       nan\n",
      "Date:                Sun, 06 Dec 2020   Prob (F-statistic):                nan\n",
      "Time:                        16:06:24   Log-Likelihood:                -130.07\n",
      "No. Observations:                  29   AIC:                             262.1\n",
      "Df Residuals:                      28   BIC:                             263.5\n",
      "Df Model:                           0                                         \n",
      "Covariance Type:            nonrobust                                         \n",
      "==============================================================================\n",
      "                 coef    std err          t      P>|t|      [0.025      0.975]\n",
      "------------------------------------------------------------------------------\n",
      "Intercept     51.8928      4.056     12.794      0.000      43.585      60.201\n",
      "==============================================================================\n",
      "Omnibus:                       16.701   Durbin-Watson:                   0.026\n",
      "Prob(Omnibus):                  0.000   Jarque-Bera (JB):                3.079\n",
      "Skew:                           0.246   Prob(JB):                        0.214\n",
      "Kurtosis:                       1.481   Cond. No.                         1.00\n",
      "==============================================================================\n",
      "\n",
      "Notes:\n",
      "[1] Standard Errors assume that the covariance matrix of the errors is correctly specified.\n"
     ]
    }
   ],
   "source": [
    "#regression 5: restricted model\n",
    "\n",
    "restrictedModel = smf.ols( formula = 'GGDP ~ 1', data = df )\n",
    "restrictedReg = restrictedModel.fit()\n",
    "print( restrictedReg.summary() )"
   ]
  },
  {
   "cell_type": "markdown",
   "metadata": {},
   "source": [
    "### Multicolinearity and Autocorrelation Corrections\n",
    "\n",
    "The best model so far is reg1 based on AIC score. The corrections will be performed on reg1."
   ]
  },
  {
   "cell_type": "code",
   "execution_count": 23,
   "metadata": {},
   "outputs": [],
   "source": [
    "#retrieve X variables\n",
    "\n",
    "X = reg1.model.data.orig_exog"
   ]
  },
  {
   "cell_type": "code",
   "execution_count": 24,
   "metadata": {},
   "outputs": [
    {
     "data": {
      "text/html": [
       "<div>\n",
       "<style scoped>\n",
       "    .dataframe tbody tr th:only-of-type {\n",
       "        vertical-align: middle;\n",
       "    }\n",
       "\n",
       "    .dataframe tbody tr th {\n",
       "        vertical-align: top;\n",
       "    }\n",
       "\n",
       "    .dataframe thead th {\n",
       "        text-align: right;\n",
       "    }\n",
       "</style>\n",
       "<table border=\"1\" class=\"dataframe\">\n",
       "  <thead>\n",
       "    <tr style=\"text-align: right;\">\n",
       "      <th></th>\n",
       "      <th>Intercept</th>\n",
       "      <th>PopulationScaled</th>\n",
       "      <th>DWTonsScaled</th>\n",
       "      <th>Energy</th>\n",
       "      <th>Unemployment</th>\n",
       "      <th>Literacy</th>\n",
       "      <th>Residuals</th>\n",
       "      <th>Predict</th>\n",
       "    </tr>\n",
       "    <tr>\n",
       "      <th>Year</th>\n",
       "      <th></th>\n",
       "      <th></th>\n",
       "      <th></th>\n",
       "      <th></th>\n",
       "      <th></th>\n",
       "      <th></th>\n",
       "      <th></th>\n",
       "      <th></th>\n",
       "    </tr>\n",
       "  </thead>\n",
       "  <tbody>\n",
       "    <tr>\n",
       "      <th>2019</th>\n",
       "      <td>1.0</td>\n",
       "      <td>7.713468</td>\n",
       "      <td>19.883051</td>\n",
       "      <td>620.000</td>\n",
       "      <td>5.395</td>\n",
       "      <td>86.30</td>\n",
       "      <td>-3.272028</td>\n",
       "      <td>90.970028</td>\n",
       "    </tr>\n",
       "    <tr>\n",
       "      <th>2018</th>\n",
       "      <td>1.0</td>\n",
       "      <td>7.631091</td>\n",
       "      <td>19.377770</td>\n",
       "      <td>598.006</td>\n",
       "      <td>5.392</td>\n",
       "      <td>86.30</td>\n",
       "      <td>1.800000</td>\n",
       "      <td>84.557000</td>\n",
       "    </tr>\n",
       "    <tr>\n",
       "      <th>2017</th>\n",
       "      <td>1.0</td>\n",
       "      <td>7.547859</td>\n",
       "      <td>18.681738</td>\n",
       "      <td>583.929</td>\n",
       "      <td>5.570</td>\n",
       "      <td>86.13</td>\n",
       "      <td>0.295035</td>\n",
       "      <td>80.933965</td>\n",
       "    </tr>\n",
       "    <tr>\n",
       "      <th>2016</th>\n",
       "      <td>1.0</td>\n",
       "      <td>7.464022</td>\n",
       "      <td>18.115264</td>\n",
       "      <td>575.594</td>\n",
       "      <td>5.670</td>\n",
       "      <td>85.89</td>\n",
       "      <td>-2.882447</td>\n",
       "      <td>79.218447</td>\n",
       "    </tr>\n",
       "    <tr>\n",
       "      <th>2015</th>\n",
       "      <td>1.0</td>\n",
       "      <td>7.379797</td>\n",
       "      <td>17.530919</td>\n",
       "      <td>568.778</td>\n",
       "      <td>5.638</td>\n",
       "      <td>85.60</td>\n",
       "      <td>-2.588798</td>\n",
       "      <td>77.787798</td>\n",
       "    </tr>\n",
       "  </tbody>\n",
       "</table>\n",
       "</div>"
      ],
      "text/plain": [
       "      Intercept  PopulationScaled  DWTonsScaled   Energy  Unemployment  \\\n",
       "Year                                                                     \n",
       "2019        1.0          7.713468     19.883051  620.000         5.395   \n",
       "2018        1.0          7.631091     19.377770  598.006         5.392   \n",
       "2017        1.0          7.547859     18.681738  583.929         5.570   \n",
       "2016        1.0          7.464022     18.115264  575.594         5.670   \n",
       "2015        1.0          7.379797     17.530919  568.778         5.638   \n",
       "\n",
       "      Literacy  Residuals    Predict  \n",
       "Year                                  \n",
       "2019     86.30  -3.272028  90.970028  \n",
       "2018     86.30   1.800000  84.557000  \n",
       "2017     86.13   0.295035  80.933965  \n",
       "2016     85.89  -2.882447  79.218447  \n",
       "2015     85.60  -2.588798  77.787798  "
      ]
     },
     "execution_count": 24,
     "metadata": {},
     "output_type": "execute_result"
    }
   ],
   "source": [
    "#add residuals and predicted values\n",
    "\n",
    "X['Residuals'] = reg1.resid\n",
    "X['Predict'] = reg1.predict()\n",
    "X.head()"
   ]
  },
  {
   "cell_type": "code",
   "execution_count": 25,
   "metadata": {},
   "outputs": [
    {
     "data": {
      "image/png": "[encoded data removed]",
      "text/plain": [
       "<Figure size 432x288 with 1 Axes>"
      ]
     },
     "metadata": {
      "needs_background": "light"
     },
     "output_type": "display_data"
    }
   ],
   "source": [
    "#plot residuals vs predicted\n",
    "\n",
    "ax = sns.scatterplot(x = 'Predict', y = 'Residuals', data = X)\n",
    "ax.set(title = 'Residuals vs Predicted',\n",
    "      xlabel = 'Predicted Y',\n",
    "      ylabel = 'Residual')\n",
    "ax.axhline(y = 0);"
   ]
  },
  {
   "cell_type": "code",
   "execution_count": 26,
   "metadata": {},
   "outputs": [
    {
     "name": "stdout",
     "output_type": "stream",
     "text": [
      "\n",
      "White's Test for Heteroskedasticity\n"
     ]
    },
    {
     "data": {
      "text/html": [
       "<div>\n",
       "<style scoped>\n",
       "    .dataframe tbody tr th:only-of-type {\n",
       "        vertical-align: middle;\n",
       "    }\n",
       "\n",
       "    .dataframe tbody tr th {\n",
       "        vertical-align: top;\n",
       "    }\n",
       "\n",
       "    .dataframe thead th {\n",
       "        text-align: right;\n",
       "    }\n",
       "</style>\n",
       "<table border=\"1\" class=\"dataframe\">\n",
       "  <thead>\n",
       "    <tr style=\"text-align: right;\">\n",
       "      <th></th>\n",
       "      <th>stats</th>\n",
       "      <th>values</th>\n",
       "    </tr>\n",
       "  </thead>\n",
       "  <tbody>\n",
       "    <tr>\n",
       "      <th>0</th>\n",
       "      <td>Lagrange Multiplier Test Statistic</td>\n",
       "      <td>2.900000e+01</td>\n",
       "    </tr>\n",
       "    <tr>\n",
       "      <th>1</th>\n",
       "      <td>P-Value</td>\n",
       "      <td>3.608992e-01</td>\n",
       "    </tr>\n",
       "    <tr>\n",
       "      <th>2</th>\n",
       "      <td>F-Statistic</td>\n",
       "      <td>1.542985e+20</td>\n",
       "    </tr>\n",
       "    <tr>\n",
       "      <th>3</th>\n",
       "      <td>P-Value</td>\n",
       "      <td>6.364128e-11</td>\n",
       "    </tr>\n",
       "  </tbody>\n",
       "</table>\n",
       "</div>"
      ],
      "text/plain": [
       "                                stats        values\n",
       "0  Lagrange Multiplier Test Statistic  2.900000e+01\n",
       "1                             P-Value  3.608992e-01\n",
       "2                         F-Statistic  1.542985e+20\n",
       "3                             P-Value  6.364128e-11"
      ]
     },
     "execution_count": 26,
     "metadata": {},
     "output_type": "execute_result"
    }
   ],
   "source": [
    "#white test\n",
    "\n",
    "X = reg1.model.data.orig_exog\n",
    "white = sm.stats.diagnostic.het_white(reg1.resid, X)\n",
    "ret = ['Lagrange Multiplier Test Statistic', 'P-Value', 'F-Statistic', 'P-Value']\n",
    "xzip01 = zip(ret, white)\n",
    "print(\"\\nWhite's Test for Heteroskedasticity\")\n",
    "dfWhite = pd.DataFrame(list(xzip01), columns = ['stats', 'values'])\n",
    "dfWhite"
   ]
  },
  {
   "cell_type": "code",
   "execution_count": 27,
   "metadata": {},
   "outputs": [
    {
     "name": "stdout",
     "output_type": "stream",
     "text": [
      "                            OLS Regression Results                            \n",
      "==============================================================================\n",
      "Dep. Variable:                   GGDP   R-squared:                       0.990\n",
      "Model:                            OLS   Adj. R-squared:                  0.988\n",
      "Method:                 Least Squares   F-statistic:                     616.4\n",
      "Date:                Sun, 06 Dec 2020   Prob (F-statistic):           1.07e-23\n",
      "Time:                        16:06:24   Log-Likelihood:                -62.836\n",
      "No. Observations:                  29   AIC:                             137.7\n",
      "Df Residuals:                      23   BIC:                             145.9\n",
      "Df Model:                           5                                         \n",
      "Covariance Type:                  HC1                                         \n",
      "====================================================================================\n",
      "                       coef    std err          z      P>|z|      [0.025      0.975]\n",
      "------------------------------------------------------------------------------------\n",
      "Intercept          -18.9386     26.224     -0.722      0.470     -70.336      32.459\n",
      "PopulationScaled   -16.5643     11.476     -1.443      0.149     -39.057       5.929\n",
      "DWTonsScaled         0.8128      0.617      1.316      0.188      -0.397       2.023\n",
      "Energy               0.3347      0.052      6.419      0.000       0.233       0.437\n",
      "Unemployment         1.6092      2.945      0.546      0.585      -4.163       7.381\n",
      "Literacy             0.0614      0.852      0.072      0.943      -1.608       1.731\n",
      "==============================================================================\n",
      "Omnibus:                        0.421   Durbin-Watson:                   1.016\n",
      "Prob(Omnibus):                  0.810   Jarque-Bera (JB):                0.545\n",
      "Skew:                           0.233   Prob(JB):                        0.762\n",
      "Kurtosis:                       2.516   Cond. No.                     3.88e+04\n",
      "==============================================================================\n",
      "\n",
      "Notes:\n",
      "[1] Standard Errors are heteroscedasticity robust (HC1)\n",
      "[2] The condition number is large, 3.88e+04. This might indicate that there are\n",
      "strong multicollinearity or other numerical problems.\n"
     ]
    }
   ],
   "source": [
    "#regression 6: all variable w correction for heteroskedasticty\n",
    "\n",
    "mod6 = smf.ols(formula = \"GGDP ~ PopulationScaled + DWTonsScaled + Energy + Unemployment + Literacy\", data = df)\n",
    "reg6 = mod6.fit(cov_type = 'HC1')\n",
    "print(reg6.summary())"
   ]
  },
  {
   "cell_type": "markdown",
   "metadata": {},
   "source": [
    "### Interpretation of Heteroskedasticity Correction"
   ]
  },
  {
   "cell_type": "markdown",
   "metadata": {},
   "source": [
    "The correction has yielded an identical model to reg1 where there was no heteroskedasticity correction. This may indicate that the data is homoskedastic."
   ]
  },
  {
   "cell_type": "code",
   "execution_count": 28,
   "metadata": {
    "scrolled": false
   },
   "outputs": [
    {
     "name": "stdout",
     "output_type": "stream",
     "text": [
      "                           GLSAR Regression Results                           \n",
      "==============================================================================\n",
      "Dep. Variable:                   GGDP   R-squared:                       0.962\n",
      "Model:                          GLSAR   Adj. R-squared:                  0.954\n",
      "Method:                 Least Squares   F-statistic:                     112.7\n",
      "Date:                Sun, 06 Dec 2020   Prob (F-statistic):           6.43e-15\n",
      "Time:                        16:06:24   Log-Likelihood:                -54.101\n",
      "No. Observations:                  28   AIC:                             120.2\n",
      "Df Residuals:                      22   BIC:                             128.2\n",
      "Df Model:                           5                                         \n",
      "Covariance Type:            nonrobust                                         \n",
      "====================================================================================\n",
      "                       coef    std err          t      P>|t|      [0.025      0.975]\n",
      "------------------------------------------------------------------------------------\n",
      "Intercept          -39.3084     40.714     -0.965      0.345    -123.745      45.128\n",
      "PopulationScaled     1.2255     13.466      0.091      0.928     -26.701      29.151\n",
      "DWTonsScaled         0.9619      0.755      1.274      0.216      -0.603       2.527\n",
      "Energy               0.2061      0.067      3.093      0.005       0.068       0.344\n",
      "Unemployment        -2.8268      2.638     -1.072      0.295      -8.297       2.643\n",
      "Literacy            -0.0908      1.083     -0.084      0.934      -2.338       2.156\n",
      "==============================================================================\n",
      "Omnibus:                        0.062   Durbin-Watson:                   1.474\n",
      "Prob(Omnibus):                  0.969   Jarque-Bera (JB):                0.281\n",
      "Skew:                           0.006   Prob(JB):                        0.869\n",
      "Kurtosis:                       2.509   Cond. No.                     2.22e+04\n",
      "==============================================================================\n",
      "\n",
      "Notes:\n",
      "[1] Standard Errors assume that the covariance matrix of the errors is correctly specified.\n",
      "[2] The condition number is large, 2.22e+04. This might indicate that there are\n",
      "strong multicollinearity or other numerical problems.\n"
     ]
    }
   ],
   "source": [
    "#regression 7: all variables w correction for autocorrelation\n",
    "\n",
    "mod7 = sm.GLSAR.from_formula(formula = \"GGDP ~ PopulationScaled + DWTonsScaled + Energy + Unemployment + Literacy\", \n",
    "                             rho = 1,\n",
    "                             data = df)\n",
    "reg7 = mod7.iterative_fit(maxiter = 3)\n",
    "print(reg7.summary())"
   ]
  },
  {
   "cell_type": "markdown",
   "metadata": {},
   "source": [
    "### Interpretation of Autocorrellation Correction"
   ]
  },
  {
   "cell_type": "markdown",
   "metadata": {},
   "source": [
    "The Durbin-Watson statistic prior to the autocorrelation correction was 1.016, indicating there was a degree of autocorrelation. After performing the correction, the Durbin-Watson statstic improve to 1.474, indicating there is still a degree of autocorrelation in the model."
   ]
  },
  {
   "cell_type": "markdown",
   "metadata": {},
   "source": [
    "### Elasticity Calculations"
   ]
  },
  {
   "cell_type": "code",
   "execution_count": 29,
   "metadata": {},
   "outputs": [
    {
     "name": "stdout",
     "output_type": "stream",
     "text": [
      "Estimated Slopes:  [-16.5643408057883, -16.5643408057883, 1.2254613898816729]\n",
      "Elasticities:  [-131.13509512 -131.13509512    9.70162337]\n",
      "Mean of Population = 6.5548\n"
     ]
    }
   ],
   "source": [
    "#elasticities for population\n",
    "\n",
    "slopes = [reg1.params[1], reg6.params[1], reg7.params[1]]\n",
    "mean_ray = df.GGDP.mean()/df.PopulationScaled.mean()\n",
    "eta = np.array( slopes ) * mean_ray\n",
    "print('Estimated Slopes: ', slopes)\n",
    "print('Elasticities: ', eta)\n",
    "print('Mean of Population =', round(df.PopulationScaled.mean(),4))"
   ]
  },
  {
   "cell_type": "code",
   "execution_count": 30,
   "metadata": {},
   "outputs": [
    {
     "name": "stdout",
     "output_type": "stream",
     "text": [
      "Estimated Slopes:  [-16.5643408057883, 4.675256322177113, 0.49722298911172236, -16.5643408057883, 1.2254613898816729]\n",
      "Elasticities:  [-76.13349138  21.48854525   2.28535036 -76.13349138   5.63250028]\n",
      "Mean of DWTonsScaled = 11.2903\n"
     ]
    }
   ],
   "source": [
    "#elasticities for total shipping capacity\n",
    "\n",
    "slopes = [reg1.params[1], reg2.params[1], reg3.params[1], reg6.params[1], reg7.params[1]]\n",
    "mean_ray = df.GGDP.mean()/df.DWTonsScaled.mean()\n",
    "eta = np.array( slopes ) * mean_ray\n",
    "print('Estimated Slopes: ', slopes)\n",
    "print('Elasticities: ', eta)\n",
    "print('Mean of DWTonsScaled =', round(df.DWTonsScaled.mean(),4))"
   ]
  },
  {
   "cell_type": "code",
   "execution_count": 31,
   "metadata": {},
   "outputs": [
    {
     "name": "stdout",
     "output_type": "stream",
     "text": [
      "Estimated Slopes:  [-16.5643408057883, 0.49722298911172236, 0.24773761173469977, -16.5643408057883, 1.2254613898816729]\n",
      "Elasticities:  [-1.84293415  0.0553206   0.02756307 -1.84293415  0.13634377]\n",
      "Mean of Energy = 466.4141\n"
     ]
    }
   ],
   "source": [
    "#elasticities for energy\n",
    "\n",
    "slopes = [reg1.params[1], reg3.params[1], reg4.params[1], reg6.params[1], reg7.params[1]]\n",
    "mean_ray = df.GGDP.mean()/df.Energy.mean()\n",
    "eta = np.array( slopes ) * mean_ray\n",
    "print('Estimated Slopes: ', slopes)\n",
    "print('Elasticities: ', eta)\n",
    "print('Mean of Energy =', round(df.Energy.mean(),4))"
   ]
  },
  {
   "cell_type": "code",
   "execution_count": 32,
   "metadata": {},
   "outputs": [
    {
     "name": "stdout",
     "output_type": "stream",
     "text": [
      "Estimated Slopes:  [-16.5643408057883, 0.49722298911172236, -16.5643408057883, 1.2254613898816729]\n",
      "Elasticities:  [-152.2646108     4.57062951 -152.2646108    11.26482507]\n",
      "Mean of Unemployment = 5.6452\n"
     ]
    }
   ],
   "source": [
    "#elasticities for unemployment\n",
    "\n",
    "slopes = [reg1.params[1], reg3.params[1], reg6.params[1], reg7.params[1]]\n",
    "mean_ray = df.GGDP.mean()/df.Unemployment.mean()\n",
    "eta = np.array( slopes ) * mean_ray\n",
    "print('Estimated Slopes: ', slopes)\n",
    "print('Elasticities: ', eta)\n",
    "print('Mean of Unemployment =', round(df.Unemployment.mean(),4))"
   ]
  },
  {
   "cell_type": "code",
   "execution_count": 33,
   "metadata": {},
   "outputs": [
    {
     "name": "stdout",
     "output_type": "stream",
     "text": [
      "Estimated Slopes:  [-16.5643408057883, -16.5643408057883, 1.2254613898816729]\n",
      "Elasticities:  [-10.51107671 -10.51107671   0.77762942]\n",
      "Mean of Literacy = 81.7776\n"
     ]
    }
   ],
   "source": [
    "#elasticities for literacy\n",
    "\n",
    "slopes = [reg1.params[1], reg6.params[1], reg7.params[1]]\n",
    "mean_ray = df.GGDP.mean()/df.Literacy.mean()\n",
    "eta = np.array( slopes ) * mean_ray\n",
    "print('Estimated Slopes: ', slopes)\n",
    "print('Elasticities: ', eta)\n",
    "print('Mean of Literacy =', round(df.Literacy.mean(),4))"
   ]
  },
  {
   "cell_type": "markdown",
   "metadata": {},
   "source": [
    "### Elasticity Table"
   ]
  },
  {
   "cell_type": "markdown",
   "metadata": {},
   "source": [
    "| Variable        | Model      | Estimate  | Mean          | Elasticity | Interpretation |\n",
    "|-----------------|------------|---------- |---------------|------------|----------------|\n",
    "|PopulationScaled |reg1        |-16.5643   |6.5548         |-131.1351   |Elastic         |\n",
    "|DWTonsScaled     |reg1        |-16.5643   |1129.0307      |-76.1334    |Elastic         |\n",
    "|Energy           |reg1        |-16.5643   |466.4141       |-1.8429     |Elastic         |\n",
    "|Unemployment     |reg1        |-16.5643   |5.6452         |-152.2646   |Elastic         |\n",
    "|Literacy         |reg1        |-16.5643   |81.7776        |-10.5111    |Elastic         |\n",
    "|DWTonsScaled     |reg2        |0.0468     |1129.0307      |21.4885     |Elastic         | \n",
    "|DWTonsScaled     |reg3        |0.0050     |1129.0307      |2.2854      |Elastic         |\n",
    "|Energy           |reg3        |0.0050     |466.4141       |0.0553      |Inelastic       |\n",
    "|Unemployment     |reg3        |0.0050     |5.6452         |4.5707      |Elastic         |\n",
    "|Energy           |reg4        |0.2477     |466.4141       |0.0276      |Inelastic       |\n",
    "|PopulationScaled |reg6        |-16.5643   |6.5548         |-131.1351   |Elastic         |\n",
    "|DWTonsScaled     |reg6        |-16.5643   |1129.0307      |-76.1334    |Elastic         |\n",
    "|Energy           |reg6        |-16.5643   |466.4141       |-1.8429     |Elastic         |\n",
    "|Unemployment     |reg6        |-16.5643   |5.6452         |-152.2646   |Elastic         |\n",
    "|Literacy         |reg6        |-16.5643   |81.7776        |-10.5111    |Elastic         |\n",
    "|PopulationScaled |reg7        |1.22546    |6.5548         |9.7016      |Elastic         |\n",
    "|DWTonsScaled     |reg7        |1.22546    |1129.0307      |5.6325      |Elastic         |\n",
    "|Energy           |reg7        |1.22546    |466.4141       |0.1363      |Inelastic       |\n",
    "|Unemployment     |reg7        |1.22546    |5.6452         |11.2648     |Elastic         |\n",
    "|Literacy         |reg7        |1.22546    |81.7776        |0.7776      |Inelastic       |"
   ]
  },
  {
   "cell_type": "markdown",
   "metadata": {},
   "source": [
    "### Model Portfolio"
   ]
  },
  {
   "cell_type": "code",
   "execution_count": 34,
   "metadata": {
    "scrolled": false
   },
   "outputs": [
    {
     "name": "stdout",
     "output_type": "stream",
     "text": [
      "                                Summary Table for GGDP Models\n",
      "==============================================================================================\n",
      "                    reg1      reg2       reg3        reg4    restrictedReg    reg6      reg7  \n",
      "----------------------------------------------------------------------------------------------\n",
      "DWTonsScaled     0.8128    4.6753*** 0.4972                                0.8128    0.9619   \n",
      "                 (0.5566)  (0.2345)  (0.4205)                              (0.6175)  (0.7548) \n",
      "Energy           0.3347***           0.2242***   0.2477***                 0.3347*** 0.2061***\n",
      "                 (0.0590)            (0.0219)    (0.0057)                  (0.0521)  (0.0666) \n",
      "Intercept        -18.9386  -0.8923   -45.2592*** -63.6555*** 51.8928***    -18.9386  -39.3084 \n",
      "                 (35.0715) (2.8451)  (8.3375)    (2.7127)    (4.0560)      (26.2239) (40.7143)\n",
      "Literacy         0.0614                                                    0.0614    -0.0908  \n",
      "                 (1.0263)                                                  (0.8520)  (1.0835) \n",
      "PopulationScaled -16.5643                                                  -16.5643  1.2255   \n",
      "                 (12.0540)                                                 (11.4762) (13.4656)\n",
      "R-squared        0.9903    0.9364    0.9885      0.9858      0.0000        0.9903    0.9624   \n",
      "R-squared Adj.   0.9882    0.9340    0.9871      0.9853      0.0000        0.9882    0.9539   \n",
      "Unemployment     1.6092              -2.3060                               1.6092    -2.8268  \n",
      "                 (2.4844)            (1.5534)                              (2.9449)  (2.6377) \n",
      "\n",
      "n               29        29        29          29          29            29        28       \n",
      "R2 Adjusted      0.988     0.934     0.987       0.985       0.000         0.988     0.954    \n",
      "AIC              137.67    184.25    138.65      140.74      262.14        137.67    120.20   \n",
      "F                470.25    397.50    716.17      1876.07     nan           616.41    112.72   \n",
      "==============================================================================================\n",
      "Standard errors in parentheses.\n",
      "* p<.1, ** p<.05, ***p<.01\n"
     ]
    }
   ],
   "source": [
    "model_names = ['reg1', 'reg2', 'reg3', 'reg4', 'restrictedReg', 'reg6', 'reg7']\n",
    "\n",
    "info_dict = { '\\nn': lambda x: \"{0:d}\".format( int( x.nobs ) ),\n",
    "              'R2 Adjusted': lambda x: \"{:0.3f}\".format( x.rsquared_adj ),\n",
    "              'AIC': lambda x: \"{:0.2f}\".format( x.aic ),\n",
    "              'F': lambda x: \"{:0.2f}\".format( x.fvalue ),}\n",
    "\n",
    "summary_table = summary_col( [reg1, reg2, reg3, reg4, restrictedReg, reg6, reg7],\n",
    "            float_format = '%0.4f',\n",
    "            model_names = model_names,          \n",
    "            stars = True, \n",
    "            info_dict = info_dict \n",
    ")\n",
    "summary_table.add_title( 'Summary Table for GGDP Models' )\n",
    "print( summary_table )"
   ]
  },
  {
   "cell_type": "markdown",
   "metadata": {},
   "source": [
    "## Post-lab Analysis and Conclusions\n",
    "\n",
    "[Back to Contents](#Contents)\n",
    "\n",
    "Apply the analysis tools you learned."
   ]
  },
  {
   "cell_type": "markdown",
   "metadata": {},
   "source": [
    "### Relationship between GGDP and independent variables analysis and testable hypothesis conclusion"
   ]
  },
  {
   "cell_type": "markdown",
   "metadata": {},
   "source": [
    "Different models show slightly differing relationships between gross global domestic product and the independent variables. Across all models it seems there is a slight positive relationship between total shipping capactiy and gross global domestic product. Additionally, in terms of statistical significance, the various models consistently show total energy consumption as the most important variable in predicting global gross domestic product."
   ]
  },
  {
   "cell_type": "markdown",
   "metadata": {},
   "source": [
    "### Correlation matrix interpretation"
   ]
  },
  {
   "cell_type": "markdown",
   "metadata": {},
   "source": [
    "The correlation matrix shows intense positive correlation between many of the independent variables. For example, gross global domestic product, total shipping capacity, total energy consumption, world population, and global literacy has steadily risen continuously since the beginning of our observation period. This may be because of some other underlying factors I did not take into account that may have introduced a huge source of error due to colinearity. "
   ]
  },
  {
   "cell_type": "markdown",
   "metadata": {},
   "source": [
    "### $R^{2}$ and $R^{2}$ adjusted interpretation"
   ]
  },
  {
   "cell_type": "markdown",
   "metadata": {},
   "source": [
    "Reg1 shows a R2 of 0.9903 and a R2-adjusted of 0.9882. This tells us that 99.03% of the variation is described by the reg1 model, and 98.82% of the variation is described by the indepenedent variables that affect global gross domestic product. Reg2 shows a R2 of 0.9364 and a R2-adjusted of 0.9340. This tells us that 93.64% of the variation is described by the reg2 model, and 93.40% of the variation is described by the indepenedent variables that affect global gross domestic product. Reg3 shows a R2 of 0.9885 and a R2-adjusted of 0.9871. This tells us that 98.85% of the variation is described by the reg3 model, and 98.71% of the variation is described by the indepenedent variables that affect global gross domestic product. Reg4 shows a R2 of 0.9858 and a R2-adjusted of 0.9853. This tells us that 98.58% of the variation is described by the reg4 model, and 98.53% of the variation is described by the indepenedent variables that affect global gross domestic product. Reg6 shows a R2 of 0.9903 and a R2-adjusted of 0.9882. This tells us that 99.03% of the variation is described by the reg6 model, and 98.82% of the variation is described by the indepenedent variables that affect global gross domestic product. Reg7 shows a R2 of 0.9624 and a R2-adjusted of 0.9539. This tells us that 96.24% of the variation is described by the reg7 model, and 95.39% of the variation is described by the indepenedent variables that affect global gross domestic product. For this problem, the R2-adjusted may be the better measure, as across all models most variables seem to be statistically insignificant with total energy consumption being consistently statistically significant. Therefore, we want to ignore those that are insignificant to see the actual robustness of the model."
   ]
  },
  {
   "cell_type": "markdown",
   "metadata": {},
   "source": [
    "### Elasticity Interpretation"
   ]
  },
  {
   "cell_type": "markdown",
   "metadata": {},
   "source": [
    "From my calculated, elasticities it seems that global gross domestic product is elastic with respect to the independent variables for most estimated models. This supports my testable hypothesis as we would expect global gross domestic product to go down as things that affect meausres of productivity and efficiency go down. Additionally, it is important note that selecting different units of measurements may affect elasticity. For example changing shipping capacity to thousands of tons will drastically change the elasticity measurement."
   ]
  },
  {
   "cell_type": "markdown",
   "metadata": {},
   "source": [
    "### Restricted vs Unrestricted model comparison and best model"
   ]
  },
  {
   "cell_type": "markdown",
   "metadata": {},
   "source": [
    "The F-statistic tests whether a restricted or unrestricted model is better in predicting global gross domestic product. For reg1, it has a f-statistic) of 470.3, and a probability(f-statistic) of 2.34e-22. Based of these values, we must reject the null hyothesis, and conclude that reg1 is more statistically significant and a better predictor of violent crime than the naive model. For reg2, it has a f-statistic) of 397.5, and a probability(f-statistic) of 1.10e-17. Based of these values, we must reject the null hyothesis, and conclude that reg1 is more statistically significant and a better predictor of violent crime than the naive model. For reg3, it has a f-statistic) of 716.2, and a probability(f-statistic) of 2.35e-24. Based of these values, we must reject the null hyothesis, and conclude that reg1 is more statistically significant and a better predictor of violent crime than the naive model. For reg4, it has a f-statistic) of 716.2, and a probability(f-statistic) of 2.35e-24. Based of these values, we must reject the null hyothesis, and conclude that reg1 is more statistically significant and a better predictor of violent crime than the naive model. For reg6, it has a f-statistic) of 616.4, and a probability(f-statistic) of 1.07e-23. Based of these values, we must reject the null hyothesis, and conclude that reg1 is more statistically significant and a better predictor of violent crime than the naive model. For reg7, it has a f-statistic) of 112.7, and a probability(f-statistic) of 6.43e-15. Based of these values, we must reject the null hyothesis, and conclude that reg1 is more statistically significant and a better predictor of violent crime than the naive model.\n",
    "\n",
    "Based of the AIC score, reg7 is the best model because of it having the minimum score, 120.20, of all models after correcting for autocorrelation. However, reg7 uses all the variables as predictors, and we know that total energy consumption is the most statistically significant variable based of how it has performed, in terms of statsitcal significance, in the other models. Therefore, we conclude that reg7 is the best model however we should conduct further study on the affects of energy consumption and global gross domestic product."
   ]
  },
  {
   "cell_type": "markdown",
   "metadata": {},
   "source": [
    "### Future model improvements and practical significance"
   ]
  },
  {
   "cell_type": "markdown",
   "metadata": {},
   "source": [
    "Because so many independent variables ended up being statistically insignificant, we may want to create a model that is more specific by looking at countries with the largest merchant fleets and studying those individual economies and respective GDPs. Then we may factor in other variables such as imports, exports, trade and energy consumption. Additionally, we may want to look at other measures besides GDP that measure efficiency and wellfare as well."
   ]
  },
  {
   "cell_type": "markdown",
   "metadata": {},
   "source": [
    "<div class=\"alert alert-success\" role=\"alert\">\n",
    "  <center><h4 class=\"alert-heading\">Well done!</h4></center><br>\n",
    "  <center>Make sure your name is on this notebook at the top and on the file.</center>\n",
    "  <center>Please submit this notebook as a PDF file.  Nothing else will be accepted.</center>\n",
    "</div>"
   ]
  }
 ],
 "metadata": {
  "kernelspec": {
   "display_name": "Python 3",
   "language": "python",
   "name": "python3"
  },
  "language_info": {
   "codemirror_mode": {
    "name": "ipython",
    "version": 3
   },
   "file_extension": ".py",
   "mimetype": "text/x-python",
   "name": "python",
   "nbconvert_exporter": "python",
   "pygments_lexer": "ipython3",
   "version": "3.7.0"
  }
 },
 "nbformat": 4,
 "nbformat_minor": 2
}
